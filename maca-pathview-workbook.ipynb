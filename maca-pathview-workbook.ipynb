{
 "cells": [
  {
   "cell_type": "markdown",
   "metadata": {},
   "source": [
    "# Pathway Analysis Pipeline\n",
    "\n",
    "### Intro\n",
    "\n",
    "* This is the `R` version of the `pathview` webapp. \n",
    "* `pathview` colours nodes on KEGG network diagrams, based on input \n",
    "\n",
    "### Review\n",
    "* **Pros**: `pathviewR` grants access to sanitized `KEGG` pathways. That's a *very* big pro.\n",
    "* **Cons**: More than the pros, unfortunately:\n",
    "    * I'm *still* not sure whether the input is logFC or abundance values. Some playing around with very simple 2-class examples has revealed that this doesn't make a difference. \n",
    "    * `GAGE` (automatic pathway selection functionality, which is presumably a pathway enrichment analysis method of some kind) has questionable efficacy. It appears to need many, many features (a test dataset with ~70 features yielded output pathways, but no output `.tsv` table with the associated q-values and statistics values). \n",
    "* Suggested usage: use the **joint pathway (enrichment) analysis** module on `MetaboAnalyst` to retrieve perturbed pathways, then visualize these with `pathview`. "
   ]
  },
  {
   "cell_type": "code",
   "execution_count": 1,
   "metadata": {},
   "outputs": [],
   "source": [
    "# Load library and example datasets\n",
    "library(\"pacman\")\n",
    "\n",
    "pacman::p_load(\"pathview\", \"gage\", \"tidyverse\", \"MetaboAnalystR\", \"KEGGREST\", \"httr\")\n",
    "data(gse16873.d)\n",
    "# Load human pathways data\n",
    "data(paths.hsa)\n",
    "# load demo pathway-related data, including 3 pathway ids and related plotting params\n",
    "# this is in dictionary format\n",
    "data(demo.paths)\n",
    "\n",
    "source(\"~/maca-utils/maca-kegg-utils.R\")\n"
   ]
  },
  {
   "cell_type": "markdown",
   "metadata": {},
   "source": [
    "## Get DE metabs\n",
    "\n",
    "To provide `pathviewR` with fold change data."
   ]
  },
  {
   "cell_type": "code",
   "execution_count": 2,
   "metadata": {},
   "outputs": [
    {
     "name": "stdout",
     "output_type": "stream",
     "text": [
      "[1] \"MetaboAnalyst R objects initialized ...\"\n",
      " [1] \"Successfully passed sanity check!\"                                                                    \n",
      " [2] \"Samples are not paired.\"                                                                              \n",
      " [3] \"2 groups were detected in samples.\"                                                                   \n",
      " [4] \"Only English letters, numbers, underscore, hyphen and forward slash (/) are allowed.\"                 \n",
      " [5] \"<font color=\\\"orange\\\">Other special characters or punctuations (if any) will be stripped off.</font>\"\n",
      " [6] \"All data values are numeric.\"                                                                         \n",
      " [7] \"A total of 2 (0.1%) missing values were detected.\"                                                    \n",
      " [8] \"<u>By default, these values will be replaced by a small value.</u>\"                                   \n",
      " [9] \"Click <b>Skip</b> button if you accept the default practice\"                                          \n",
      "[10] \"Or click <b>Missing value imputation</b> to use other methods\"                                        \n"
     ]
    },
    {
     "name": "stderr",
     "output_type": "stream",
     "text": [
      "Warning message:\n",
      "“Duplicated column names deduplicated: 'Alanylglycine' => 'Alanylglycine_1' [59]”"
     ]
    },
    {
     "name": "stdout",
     "output_type": "stream",
     "text": [
      "[1] \"MetaboAnalyst R objects initialized ...\"\n",
      "[1] \"Loaded files from MetaboAnalyst web-server.\"\n",
      "[1] \"Loaded files from MetaboAnalyst web-server.\"\n",
      "[1] \"Loaded files from MetaboAnalyst web-server.\"\n",
      "NULL\n"
     ]
    }
   ],
   "source": [
    "fn_auc_csv <- \"test_dme_data.csv\"\n",
    "tbl0 <- call_maca_normalization(fn_auc_csv)\n",
    "tbl0 <- get_de_metabs(tbl0, 0.01, \"treatment\", \"control\", 0.05)"
   ]
  },
  {
   "cell_type": "code",
   "execution_count": 3,
   "metadata": {},
   "outputs": [
    {
     "data": {
      "text/html": [
       "<table>\n",
       "<caption>A tibble: 6 × 7</caption>\n",
       "<thead>\n",
       "\t<tr><th scope=col>Sample</th><th scope=col>log2_fc</th><th scope=col>KEGG</th><th scope=col>HMDB</th><th scope=col>raw_p_val</th><th scope=col>adj_p_val</th><th scope=col>fc_colour</th></tr>\n",
       "\t<tr><th scope=col>&lt;chr&gt;</th><th scope=col>&lt;dbl&gt;</th><th scope=col>&lt;chr&gt;</th><th scope=col>&lt;chr&gt;</th><th scope=col>&lt;dbl&gt;</th><th scope=col>&lt;dbl&gt;</th><th scope=col>&lt;chr&gt;</th></tr>\n",
       "</thead>\n",
       "<tbody>\n",
       "\t<tr><td>Alanylglycine                  </td><td>-0.099317851</td><td>undef </td><td>HMDB0006899</td><td>0.767106122</td><td>0.9960022</td><td>#ACACAC</td></tr>\n",
       "\t<tr><td>2-Methylcitric acid            </td><td> 0.005383113</td><td>undef </td><td>HMDB0000379</td><td>0.984630576</td><td>0.9960022</td><td>#ACACAC</td></tr>\n",
       "\t<tr><td>4-Hydroxyproline               </td><td>-2.541111981</td><td>C01157</td><td>HMDB0000725</td><td>0.332612676</td><td>0.9960022</td><td>#ACACAC</td></tr>\n",
       "\t<tr><td>3,4-Dihydroxybenzeneacetic acid</td><td> 1.058901884</td><td>C01161</td><td>HMDB0001336</td><td>0.553459759</td><td>0.9960022</td><td>#ACACAC</td></tr>\n",
       "\t<tr><td>Adenosine triphosphate         </td><td> 3.122137114</td><td>C00002</td><td>HMDB0000538</td><td>0.007198896</td><td>0.9718510</td><td>#ACACAC</td></tr>\n",
       "\t<tr><td>3-Methyladenine                </td><td>-0.674902678</td><td>C00913</td><td>HMDB0011600</td><td>0.498074864</td><td>0.9960022</td><td>#ACACAC</td></tr>\n",
       "</tbody>\n",
       "</table>\n"
      ],
      "text/latex": [
       "A tibble: 6 × 7\n",
       "\\begin{tabular}{r|lllllll}\n",
       " Sample & log2\\_fc & KEGG & HMDB & raw\\_p\\_val & adj\\_p\\_val & fc\\_colour\\\\\n",
       " <chr> & <dbl> & <chr> & <chr> & <dbl> & <dbl> & <chr>\\\\\n",
       "\\hline\n",
       "\t Alanylglycine                   & -0.099317851 & undef  & HMDB0006899 & 0.767106122 & 0.9960022 & \\#ACACAC\\\\\n",
       "\t 2-Methylcitric acid             &  0.005383113 & undef  & HMDB0000379 & 0.984630576 & 0.9960022 & \\#ACACAC\\\\\n",
       "\t 4-Hydroxyproline                & -2.541111981 & C01157 & HMDB0000725 & 0.332612676 & 0.9960022 & \\#ACACAC\\\\\n",
       "\t 3,4-Dihydroxybenzeneacetic acid &  1.058901884 & C01161 & HMDB0001336 & 0.553459759 & 0.9960022 & \\#ACACAC\\\\\n",
       "\t Adenosine triphosphate          &  3.122137114 & C00002 & HMDB0000538 & 0.007198896 & 0.9718510 & \\#ACACAC\\\\\n",
       "\t 3-Methyladenine                 & -0.674902678 & C00913 & HMDB0011600 & 0.498074864 & 0.9960022 & \\#ACACAC\\\\\n",
       "\\end{tabular}\n"
      ],
      "text/markdown": [
       "\n",
       "A tibble: 6 × 7\n",
       "\n",
       "| Sample &lt;chr&gt; | log2_fc &lt;dbl&gt; | KEGG &lt;chr&gt; | HMDB &lt;chr&gt; | raw_p_val &lt;dbl&gt; | adj_p_val &lt;dbl&gt; | fc_colour &lt;chr&gt; |\n",
       "|---|---|---|---|---|---|---|\n",
       "| Alanylglycine                   | -0.099317851 | undef  | HMDB0006899 | 0.767106122 | 0.9960022 | #ACACAC |\n",
       "| 2-Methylcitric acid             |  0.005383113 | undef  | HMDB0000379 | 0.984630576 | 0.9960022 | #ACACAC |\n",
       "| 4-Hydroxyproline                | -2.541111981 | C01157 | HMDB0000725 | 0.332612676 | 0.9960022 | #ACACAC |\n",
       "| 3,4-Dihydroxybenzeneacetic acid |  1.058901884 | C01161 | HMDB0001336 | 0.553459759 | 0.9960022 | #ACACAC |\n",
       "| Adenosine triphosphate          |  3.122137114 | C00002 | HMDB0000538 | 0.007198896 | 0.9718510 | #ACACAC |\n",
       "| 3-Methyladenine                 | -0.674902678 | C00913 | HMDB0011600 | 0.498074864 | 0.9960022 | #ACACAC |\n",
       "\n"
      ],
      "text/plain": [
       "  Sample                          log2_fc      KEGG   HMDB        raw_p_val  \n",
       "1 Alanylglycine                   -0.099317851 undef  HMDB0006899 0.767106122\n",
       "2 2-Methylcitric acid              0.005383113 undef  HMDB0000379 0.984630576\n",
       "3 4-Hydroxyproline                -2.541111981 C01157 HMDB0000725 0.332612676\n",
       "4 3,4-Dihydroxybenzeneacetic acid  1.058901884 C01161 HMDB0001336 0.553459759\n",
       "5 Adenosine triphosphate           3.122137114 C00002 HMDB0000538 0.007198896\n",
       "6 3-Methyladenine                 -0.674902678 C00913 HMDB0011600 0.498074864\n",
       "  adj_p_val fc_colour\n",
       "1 0.9960022 #ACACAC  \n",
       "2 0.9960022 #ACACAC  \n",
       "3 0.9960022 #ACACAC  \n",
       "4 0.9960022 #ACACAC  \n",
       "5 0.9718510 #ACACAC  \n",
       "6 0.9960022 #ACACAC  "
      ]
     },
     "metadata": {},
     "output_type": "display_data"
    }
   ],
   "source": [
    "head(tbl0)"
   ]
  },
  {
   "cell_type": "markdown",
   "metadata": {},
   "source": [
    "## Get enriched pathways from MACA"
   ]
  },
  {
   "cell_type": "code",
   "execution_count": 4,
   "metadata": {},
   "outputs": [
    {
     "name": "stdout",
     "output_type": "stream",
     "text": [
      "[1] \"MetaboAnalyst R objects initialized ...\"\n",
      "[1] \"Loaded files from MetaboAnalyst web-server.\"\n",
      "[1] \"Loaded files from MetaboAnalyst web-server.\"\n",
      "[1] \"Loaded files from MetaboAnalyst web-server.\"\n",
      " [1] \"Successfully passed sanity check!\"                                                                    \n",
      " [2] \"Samples are not paired.\"                                                                              \n",
      " [3] \"2 groups were detected in samples.\"                                                                   \n",
      " [4] \"Only English letters, numbers, underscore, hyphen and forward slash (/) are allowed.\"                 \n",
      " [5] \"<font color=\\\"orange\\\">Other special characters or punctuations (if any) will be stripped off.</font>\"\n",
      " [6] \"All data values are numeric.\"                                                                         \n",
      " [7] \"A total of 2 (0.1%) missing values were detected.\"                                                    \n",
      " [8] \"<u>By default, these values will be replaced by a small value.</u>\"                                   \n",
      " [9] \"Click <b>Skip</b> button if you accept the default practice\"                                          \n",
      "[10] \"Or click <b>Missing value imputation</b> to use other methods\"                                        \n",
      "[1] \"Loaded files from MetaboAnalyst web-server.\"\n"
     ]
    }
   ],
   "source": [
    "x <- call_maca_pw_analysis(\"test_dme_data.csv\", \"dme\")\n",
    "tbl1 <- x[[1]]\n",
    "pw_dict <- x[[2]]\n",
    "pw_names <- get_kegg_pw_ref_tbl(\"dme\")\n",
    "\n",
    "# Manually replace some pw_names\n",
    "tbl1$pw_name[tbl1$pw_name==\"Fatty acid elongation in mitochondria\"] <- \"Fatty acid elongation\"\n",
    "tbl1$pw_name[tbl1$pw_name==\"Glycolysis or Gluconeogenesis\"] <- \"Glycolysis / Gluconeogenesis\"\n",
    "\n",
    "# Join pw enrichment output with pw IDs\n",
    "tbl1 <- inner_join(tbl1, pw_names, by=\"pw_name\")\n"
   ]
  },
  {
   "cell_type": "code",
   "execution_count": null,
   "metadata": {},
   "outputs": [],
   "source": [
    "pw_name_ls0 <- as.vector(unlist(tbl0[\"pw_name\"]))\n",
    "pw_name_ls1 <- as.vector(unlist(tbl1[\"pw_name\"]))\n",
    "\n",
    "for (pw in pw_name_ls0) {\n",
    "    if (pw %in% pw_name_ls1 == F) {\n",
    "        print(pw)\n",
    "    }\n",
    "}"
   ]
  },
  {
   "cell_type": "markdown",
   "metadata": {},
   "source": [
    "## Call PathviewR\n",
    "\n",
    "* Use `pathviewR` to retrieve the sanitized KEGG graphs (which it claims to be able to). As it turns out, it can do these in `.png` format, but not the editable `.xml` format. \n",
    "* Also do data mapping, with a single named list of logFC values (names are KEGG Ids). But these will only result in coloured nodes; barcharts are better. \n",
    "* Will return a lot of `pngs` and `xmls`. "
   ]
  },
  {
   "cell_type": "code",
   "execution_count": 5,
   "metadata": {},
   "outputs": [],
   "source": [
    "# Get input compound data\n",
    "# named list of logFCs, names are KEGG Id\n",
    "tbl_tmp <- tbl0 %>% dplyr::select(c(\"KEGG\", \"log2_fc\")) %>% filter(KEGG != \"undef\")\n",
    "cpd_data_ls <- unlist(tbl_tmp$log2_fc)\n",
    "names(cpd_data_ls) <- unlist(tbl_tmp$KEGG)\n",
    "\n",
    "# Get list of pathway numbers\n",
    "pw_num_ls <- lapply(unlist(tbl1$pw_id), function(x) {gsub(\"dme\", \"\", x)})"
   ]
  },
  {
   "cell_type": "code",
   "execution_count": null,
   "metadata": {},
   "outputs": [],
   "source": [
    "i <- 1\n",
    "suffix_i <- paste0(\"dme\", pw_num_ls[i])\n",
    "pathview(cpd.data = cpd_data_ls,\n",
    "         pathway.id = pw_num_ls[i], \n",
    "         species = \"dme\", \n",
    "         out.suffix = suffix_i,\n",
    "         keys.align = \"y\", \n",
    "         kegg.native = T\n",
    "         )"
   ]
  },
  {
   "cell_type": "markdown",
   "metadata": {},
   "source": [
    "## Get `kgml` from KEGG APIs\n",
    "\n",
    "* This kind of works, but won't give sanitized xml pathway maps to modify. The example below (Aminoacyl-tRNA Biosynthesis) is one such instance. "
   ]
  },
  {
   "cell_type": "code",
   "execution_count": null,
   "metadata": {},
   "outputs": [],
   "source": [
    "pw_num_ls[1]\n",
    "\n",
    "r <- GET(\"http://rest.kegg.jp/get/dme00970/kgml\")\n",
    "print(status_code(r))"
   ]
  },
  {
   "cell_type": "code",
   "execution_count": null,
   "metadata": {},
   "outputs": [],
   "source": [
    "writeLines(x0_text, file(\"test.svg\"))"
   ]
  },
  {
   "cell_type": "code",
   "execution_count": null,
   "metadata": {},
   "outputs": [],
   "source": [
    "# Write out\n",
    "xml_main <- content(r, \"text\")\n",
    "x0_text <- strsplit(xml_main, \"\\n\")[[1]] # to modify\n",
    "write(xml_main, \"dme-test1.kgml\")"
   ]
  },
  {
   "cell_type": "code",
   "execution_count": null,
   "metadata": {},
   "outputs": [],
   "source": []
  }
 ],
 "metadata": {
  "kernelspec": {
   "display_name": "R",
   "language": "R",
   "name": "ir"
  },
  "language_info": {
   "codemirror_mode": "r",
   "file_extension": ".r",
   "mimetype": "text/x-r-source",
   "name": "R",
   "pygments_lexer": "r",
   "version": "3.6.0"
  }
 },
 "nbformat": 4,
 "nbformat_minor": 2
}
