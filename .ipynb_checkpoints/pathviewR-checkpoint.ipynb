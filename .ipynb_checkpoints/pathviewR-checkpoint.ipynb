{
 "cells": [
  {
   "cell_type": "markdown",
   "metadata": {},
   "source": [
    "# `pathview` Tutorial\n",
    "\n",
    "(work in progress)\n",
    "\n",
    "### Intro\n",
    "\n",
    "* This is the `R` version of the `pathview` webapp. \n",
    "* `pathview` colours nodes on KEGG network diagrams, based on input \n",
    "\n",
    "### Review\n",
    "* **Pros**: `pathviewR` grants access to sanitized `KEGG` pathways. That's a *very* big pro.\n",
    "* **Cons**: More than the pros, unfortunately:\n",
    "    * I'm *still* not sure whether the input is logFC or abundance values. Some playing around with very simple 2-class examples has revealed that this doesn't make a difference. \n",
    "    * `GAGE` (automatic pathway selection functionality, which is presumably a pathway enrichment analysis method of some kind) has questionable efficacy. It appears to need many, many features (a test dataset with ~70 features yielded output pathways, but no output `.tsv` table with the associated q-values and statistics values). \n",
    "* Suggested usage: use the **joint pathway (enrichment) analysis** module on `MetaboAnalyst` to retrieve perturbed pathways, then visualize these with `pathview`. "
   ]
  },
  {
   "cell_type": "code",
   "execution_count": 2,
   "metadata": {},
   "outputs": [],
   "source": [
    "# Load library and example datasets\n",
    "library(\"pacman\")\n",
    "\n",
    "pacman::p_load(\"pathview\", \"gage\", \"tidyverse\")\n",
    "data(gse16873.d)\n",
    "# Load human pathways data\n",
    "data(paths.hsa)\n",
    "# load demo pathway-related data, including 3 pathway ids and related plotting params\n",
    "# this is in dictionary format\n",
    "data(demo.paths)"
   ]
  },
  {
   "cell_type": "markdown",
   "metadata": {},
   "source": [
    "## Start\n",
    "\n",
    "* Visualize input data onto a selected pathway, in this case `hsa04110` (\"*Cell Cycle*\").\n",
    "* Data are a matrix of shape()\n",
    "* It's not clear exactly what those input values are, but should be normalized abundance values in this case. \n",
    "* Writes out a punch of `.png` and `.xml` to directory.  "
   ]
  },
  {
   "cell_type": "code",
   "execution_count": 8,
   "metadata": {},
   "outputs": [
    {
     "data": {
      "text/html": [
       "<table>\n",
       "<caption>A matrix: 6 × 6 of type dbl</caption>\n",
       "<thead>\n",
       "\t<tr><th></th><th scope=col>DCIS_1</th><th scope=col>DCIS_2</th><th scope=col>DCIS_3</th><th scope=col>DCIS_4</th><th scope=col>DCIS_5</th><th scope=col>DCIS_6</th></tr>\n",
       "</thead>\n",
       "<tbody>\n",
       "\t<tr><th scope=row>10000</th><td>-0.30764480</td><td>-0.14722769</td><td>-0.023784808</td><td>-0.07056193</td><td>-0.001323087</td><td>-0.15026813</td></tr>\n",
       "\t<tr><th scope=row>10001</th><td> 0.41586805</td><td>-0.33477259</td><td>-0.513136907</td><td>-0.16653712</td><td> 0.111122223</td><td> 0.13400734</td></tr>\n",
       "\t<tr><th scope=row>10002</th><td> 0.19854925</td><td> 0.03789588</td><td> 0.341865341</td><td>-0.08527420</td><td> 0.767559264</td><td> 0.15828609</td></tr>\n",
       "\t<tr><th scope=row>10003</th><td>-0.23155297</td><td>-0.09659311</td><td>-0.104727283</td><td>-0.04801404</td><td>-0.208056443</td><td> 0.03344448</td></tr>\n",
       "\t<tr><th scope=row>100048912</th><td>-0.04490724</td><td>-0.05203146</td><td> 0.036390376</td><td> 0.04807823</td><td> 0.027205816</td><td> 0.05444739</td></tr>\n",
       "\t<tr><th scope=row>10004</th><td>-0.08756237</td><td>-0.05027725</td><td> 0.001821133</td><td> 0.03023835</td><td> 0.008034394</td><td>-0.06860749</td></tr>\n",
       "</tbody>\n",
       "</table>\n"
      ],
      "text/latex": [
       "A matrix: 6 × 6 of type dbl\n",
       "\\begin{tabular}{r|llllll}\n",
       "  & DCIS\\_1 & DCIS\\_2 & DCIS\\_3 & DCIS\\_4 & DCIS\\_5 & DCIS\\_6\\\\\n",
       "\\hline\n",
       "\t10000 & -0.30764480 & -0.14722769 & -0.023784808 & -0.07056193 & -0.001323087 & -0.15026813\\\\\n",
       "\t10001 &  0.41586805 & -0.33477259 & -0.513136907 & -0.16653712 &  0.111122223 &  0.13400734\\\\\n",
       "\t10002 &  0.19854925 &  0.03789588 &  0.341865341 & -0.08527420 &  0.767559264 &  0.15828609\\\\\n",
       "\t10003 & -0.23155297 & -0.09659311 & -0.104727283 & -0.04801404 & -0.208056443 &  0.03344448\\\\\n",
       "\t100048912 & -0.04490724 & -0.05203146 &  0.036390376 &  0.04807823 &  0.027205816 &  0.05444739\\\\\n",
       "\t10004 & -0.08756237 & -0.05027725 &  0.001821133 &  0.03023835 &  0.008034394 & -0.06860749\\\\\n",
       "\\end{tabular}\n"
      ],
      "text/markdown": [
       "\n",
       "A matrix: 6 × 6 of type dbl\n",
       "\n",
       "| <!--/--> | DCIS_1 | DCIS_2 | DCIS_3 | DCIS_4 | DCIS_5 | DCIS_6 |\n",
       "|---|---|---|---|---|---|---|\n",
       "| 10000 | -0.30764480 | -0.14722769 | -0.023784808 | -0.07056193 | -0.001323087 | -0.15026813 |\n",
       "| 10001 |  0.41586805 | -0.33477259 | -0.513136907 | -0.16653712 |  0.111122223 |  0.13400734 |\n",
       "| 10002 |  0.19854925 |  0.03789588 |  0.341865341 | -0.08527420 |  0.767559264 |  0.15828609 |\n",
       "| 10003 | -0.23155297 | -0.09659311 | -0.104727283 | -0.04801404 | -0.208056443 |  0.03344448 |\n",
       "| 100048912 | -0.04490724 | -0.05203146 |  0.036390376 |  0.04807823 |  0.027205816 |  0.05444739 |\n",
       "| 10004 | -0.08756237 | -0.05027725 |  0.001821133 |  0.03023835 |  0.008034394 | -0.06860749 |\n",
       "\n"
      ],
      "text/plain": [
       "          DCIS_1      DCIS_2      DCIS_3       DCIS_4      DCIS_5      \n",
       "10000     -0.30764480 -0.14722769 -0.023784808 -0.07056193 -0.001323087\n",
       "10001      0.41586805 -0.33477259 -0.513136907 -0.16653712  0.111122223\n",
       "10002      0.19854925  0.03789588  0.341865341 -0.08527420  0.767559264\n",
       "10003     -0.23155297 -0.09659311 -0.104727283 -0.04801404 -0.208056443\n",
       "100048912 -0.04490724 -0.05203146  0.036390376  0.04807823  0.027205816\n",
       "10004     -0.08756237 -0.05027725  0.001821133  0.03023835  0.008034394\n",
       "          DCIS_6     \n",
       "10000     -0.15026813\n",
       "10001      0.13400734\n",
       "10002      0.15828609\n",
       "10003      0.03344448\n",
       "100048912  0.05444739\n",
       "10004     -0.06860749"
      ]
     },
     "metadata": {},
     "output_type": "display_data"
    }
   ],
   "source": [
    "head(gse16873.d)"
   ]
  },
  {
   "cell_type": "code",
   "execution_count": 4,
   "metadata": {},
   "outputs": [
    {
     "name": "stderr",
     "output_type": "stream",
     "text": [
      "Info: Downloading xml files for hsa04110, 1/1 pathways..\n",
      "Info: Downloading png files for hsa04110, 1/1 pathways..\n",
      "'select()' returned 1:1 mapping between keys and columns\n",
      "Info: Working in directory /Users/don/Documents/my_vignettes\n",
      "Info: Writing image file hsa04110.gse16873.png\n"
     ]
    }
   ],
   "source": [
    "# Generate viz for only 1 column, gse16873.d[, 1]\n",
    "# Generate a single image file\n",
    "pv.out <- pathview(gene.data = gse16873.d[, 1], \n",
    "                   pathway.id = \"04110\",\n",
    "                   species = \"hsa\", \n",
    "                   out.suffix = \"gse16873\")"
   ]
  },
  {
   "cell_type": "code",
   "execution_count": 9,
   "metadata": {},
   "outputs": [
    {
     "name": "stderr",
     "output_type": "stream",
     "text": [
      "'select()' returned 1:1 mapping between keys and columns\n",
      "Info: Working in directory /Users/don/Documents/my_vignettes\n",
      "Info: Writing image file hsa04110.gse16873.png\n"
     ]
    },
    {
     "data": {
      "text/html": [
       "<ol class=list-inline>\n",
       "\t<li>'./hsa04110.gse16873.png'</li>\n",
       "\t<li>'./hsa04110.png'</li>\n",
       "\t<li>'./hsa04110.xml'</li>\n",
       "</ol>\n"
      ],
      "text/latex": [
       "\\begin{enumerate*}\n",
       "\\item './hsa04110.gse16873.png'\n",
       "\\item './hsa04110.png'\n",
       "\\item './hsa04110.xml'\n",
       "\\end{enumerate*}\n"
      ],
      "text/markdown": [
       "1. './hsa04110.gse16873.png'\n",
       "2. './hsa04110.png'\n",
       "3. './hsa04110.xml'\n",
       "\n",
       "\n"
      ],
      "text/plain": [
       "[1] \"./hsa04110.gse16873.png\" \"./hsa04110.png\"         \n",
       "[3] \"./hsa04110.xml\"         "
      ]
     },
     "metadata": {},
     "output_type": "display_data"
    }
   ],
   "source": [
    "i <- 1\n",
    "pv.out <- pathview(gene.data = gse16873.d[, 1], \n",
    "                   pathway.id = demo.paths$sel.paths[i],\n",
    "                   species = \"hsa\", \n",
    "                   out.suffix = \"gse16873\",\n",
    "                   kegg.native = T)\n",
    "list.files(pattern=\"hsa04110\", full.names=T)"
   ]
  },
  {
   "cell_type": "code",
   "execution_count": 10,
   "metadata": {},
   "outputs": [
    {
     "name": "stdout",
     "output_type": "stream",
     "text": [
      "List of 2\n",
      " $ plot.data.gene:'data.frame':\t92 obs. of  10 variables:\n",
      "  ..$ kegg.names: chr [1:92] \"1029\" \"51343\" \"4171\" \"4998\" ...\n",
      "  ..$ labels    : chr [1:92] \"CDKN2A\" \"FZR1\" \"MCM2\" \"ORC1\" ...\n",
      "  ..$ all.mapped: chr [1:92] \"1029\" \"51343\" \"4171,4172,4173,4174,4175,4176\" \"4998,4999,5000,5001,23594,23595\" ...\n",
      "  ..$ type      : chr [1:92] \"gene\" \"gene\" \"gene\" \"gene\" ...\n",
      "  ..$ x         : num [1:92] 532 919 553 494 919 919 188 432 123 77 ...\n",
      "  ..$ y         : num [1:92] 124 536 556 556 297 519 519 191 704 687 ...\n",
      "  ..$ width     : num [1:92] 46 46 46 46 46 46 46 46 46 46 ...\n",
      "  ..$ height    : num [1:92] 17 17 17 17 17 17 17 17 17 17 ...\n",
      "  ..$ mol.data  : num [1:92] 0.129 -0.404 -0.42 0.986 1.181 ...\n",
      "  ..$ mol.col   : Factor w/ 10 levels \"#00FF00\",\"#30EF30\",..: 5 3 3 9 9 9 9 9 5 6 ...\n",
      " $ plot.data.cpd : NULL\n"
     ]
    }
   ],
   "source": [
    "str(pv.out)"
   ]
  },
  {
   "cell_type": "code",
   "execution_count": 11,
   "metadata": {},
   "outputs": [
    {
     "data": {
      "text/html": [
       "<table>\n",
       "<caption>A data.frame: 6 × 10</caption>\n",
       "<thead>\n",
       "\t<tr><th></th><th scope=col>kegg.names</th><th scope=col>labels</th><th scope=col>all.mapped</th><th scope=col>type</th><th scope=col>x</th><th scope=col>y</th><th scope=col>width</th><th scope=col>height</th><th scope=col>mol.data</th><th scope=col>mol.col</th></tr>\n",
       "\t<tr><th></th><th scope=col>&lt;chr&gt;</th><th scope=col>&lt;chr&gt;</th><th scope=col>&lt;chr&gt;</th><th scope=col>&lt;chr&gt;</th><th scope=col>&lt;dbl&gt;</th><th scope=col>&lt;dbl&gt;</th><th scope=col>&lt;dbl&gt;</th><th scope=col>&lt;dbl&gt;</th><th scope=col>&lt;dbl&gt;</th><th scope=col>&lt;fct&gt;</th></tr>\n",
       "</thead>\n",
       "<tbody>\n",
       "\t<tr><th scope=row>4</th><td>1029 </td><td>CDKN2A</td><td>1029                                 </td><td>gene</td><td>532</td><td>124</td><td>46</td><td>17</td><td> 0.1291987</td><td>#BEBEBE</td></tr>\n",
       "\t<tr><th scope=row>5</th><td>51343</td><td>FZR1  </td><td>51343                                </td><td>gene</td><td>919</td><td>536</td><td>46</td><td>17</td><td>-0.4043256</td><td>#5FDF5F</td></tr>\n",
       "\t<tr><th scope=row>6</th><td>4171 </td><td>MCM2  </td><td>4171,4172,4173,4174,4175,4176        </td><td>gene</td><td>553</td><td>556</td><td>46</td><td>17</td><td>-0.4202181</td><td>#5FDF5F</td></tr>\n",
       "\t<tr><th scope=row>7</th><td>4998 </td><td>ORC1  </td><td>4998,4999,5000,5001,23594,23595      </td><td>gene</td><td>494</td><td>556</td><td>46</td><td>17</td><td> 0.9864873</td><td>#FF0000</td></tr>\n",
       "\t<tr><th scope=row>8</th><td>996  </td><td>CDC27 </td><td>996,8697,8881,10393,25847,29882,51433</td><td>gene</td><td>919</td><td>297</td><td>46</td><td>17</td><td> 1.1811525</td><td>#FF0000</td></tr>\n",
       "\t<tr><th scope=row>9</th><td>996  </td><td>CDC27 </td><td>996,8697,8881,10393,25847,29882,51433</td><td>gene</td><td>919</td><td>519</td><td>46</td><td>17</td><td> 1.1811525</td><td>#FF0000</td></tr>\n",
       "</tbody>\n",
       "</table>\n"
      ],
      "text/latex": [
       "A data.frame: 6 × 10\n",
       "\\begin{tabular}{r|llllllllll}\n",
       "  & kegg.names & labels & all.mapped & type & x & y & width & height & mol.data & mol.col\\\\\n",
       "  & <chr> & <chr> & <chr> & <chr> & <dbl> & <dbl> & <dbl> & <dbl> & <dbl> & <fct>\\\\\n",
       "\\hline\n",
       "\t4 & 1029  & CDKN2A & 1029                                  & gene & 532 & 124 & 46 & 17 &  0.1291987 & \\#BEBEBE\\\\\n",
       "\t5 & 51343 & FZR1   & 51343                                 & gene & 919 & 536 & 46 & 17 & -0.4043256 & \\#5FDF5F\\\\\n",
       "\t6 & 4171  & MCM2   & 4171,4172,4173,4174,4175,4176         & gene & 553 & 556 & 46 & 17 & -0.4202181 & \\#5FDF5F\\\\\n",
       "\t7 & 4998  & ORC1   & 4998,4999,5000,5001,23594,23595       & gene & 494 & 556 & 46 & 17 &  0.9864873 & \\#FF0000\\\\\n",
       "\t8 & 996   & CDC27  & 996,8697,8881,10393,25847,29882,51433 & gene & 919 & 297 & 46 & 17 &  1.1811525 & \\#FF0000\\\\\n",
       "\t9 & 996   & CDC27  & 996,8697,8881,10393,25847,29882,51433 & gene & 919 & 519 & 46 & 17 &  1.1811525 & \\#FF0000\\\\\n",
       "\\end{tabular}\n"
      ],
      "text/markdown": [
       "\n",
       "A data.frame: 6 × 10\n",
       "\n",
       "| <!--/--> | kegg.names &lt;chr&gt; | labels &lt;chr&gt; | all.mapped &lt;chr&gt; | type &lt;chr&gt; | x &lt;dbl&gt; | y &lt;dbl&gt; | width &lt;dbl&gt; | height &lt;dbl&gt; | mol.data &lt;dbl&gt; | mol.col &lt;fct&gt; |\n",
       "|---|---|---|---|---|---|---|---|---|---|---|\n",
       "| 4 | 1029  | CDKN2A | 1029                                  | gene | 532 | 124 | 46 | 17 |  0.1291987 | #BEBEBE |\n",
       "| 5 | 51343 | FZR1   | 51343                                 | gene | 919 | 536 | 46 | 17 | -0.4043256 | #5FDF5F |\n",
       "| 6 | 4171  | MCM2   | 4171,4172,4173,4174,4175,4176         | gene | 553 | 556 | 46 | 17 | -0.4202181 | #5FDF5F |\n",
       "| 7 | 4998  | ORC1   | 4998,4999,5000,5001,23594,23595       | gene | 494 | 556 | 46 | 17 |  0.9864873 | #FF0000 |\n",
       "| 8 | 996   | CDC27  | 996,8697,8881,10393,25847,29882,51433 | gene | 919 | 297 | 46 | 17 |  1.1811525 | #FF0000 |\n",
       "| 9 | 996   | CDC27  | 996,8697,8881,10393,25847,29882,51433 | gene | 919 | 519 | 46 | 17 |  1.1811525 | #FF0000 |\n",
       "\n"
      ],
      "text/plain": [
       "  kegg.names labels all.mapped                            type x   y   width\n",
       "4 1029       CDKN2A 1029                                  gene 532 124 46   \n",
       "5 51343      FZR1   51343                                 gene 919 536 46   \n",
       "6 4171       MCM2   4171,4172,4173,4174,4175,4176         gene 553 556 46   \n",
       "7 4998       ORC1   4998,4999,5000,5001,23594,23595       gene 494 556 46   \n",
       "8 996        CDC27  996,8697,8881,10393,25847,29882,51433 gene 919 297 46   \n",
       "9 996        CDC27  996,8697,8881,10393,25847,29882,51433 gene 919 519 46   \n",
       "  height mol.data   mol.col\n",
       "4 17      0.1291987 #BEBEBE\n",
       "5 17     -0.4043256 #5FDF5F\n",
       "6 17     -0.4202181 #5FDF5F\n",
       "7 17      0.9864873 #FF0000\n",
       "8 17      1.1811525 #FF0000\n",
       "9 17      1.1811525 #FF0000"
      ]
     },
     "metadata": {},
     "output_type": "display_data"
    }
   ],
   "source": [
    "head(pv.out$plot.data.gene)"
   ]
  },
  {
   "cell_type": "code",
   "execution_count": null,
   "metadata": {},
   "outputs": [],
   "source": [
    "pv.out <- pathview(gene.data = gse16873.d[, 1], \n",
    "                   pathway.id = demo.paths$sel.paths[i],\n",
    "                   species = \"hsa\", \n",
    "                   out.suffix = \"gse16873.2layer\", \n",
    "                   kegg.native = T,\n",
    "                   same.layer = F)"
   ]
  },
  {
   "cell_type": "markdown",
   "metadata": {},
   "source": [
    "## Integrating Cpd and Gene Data\n",
    "\n",
    "### Compound and gene data\n",
    "\n",
    "* Visualize gene and compound data jointly onto the output plots.\n",
    "* Input data are, again, normalized abundance values (gene and compound). "
   ]
  },
  {
   "cell_type": "code",
   "execution_count": 14,
   "metadata": {},
   "outputs": [],
   "source": [
    "# simulate cpd data\n",
    "sim.cpd.data = sim.mol.data(mol.type=\"cpd\", nmol=3000)\n",
    "data(cpd.simtypes)"
   ]
  },
  {
   "cell_type": "code",
   "execution_count": 13,
   "metadata": {},
   "outputs": [
    {
     "name": "stdout",
     "output_type": "stream",
     "text": [
      "[1] \"00640\"\n"
     ]
    }
   ],
   "source": [
    "# specify which pathway to retrieve\n",
    "i <- 3\n",
    "print(demo.paths$sel.paths[i])"
   ]
  },
  {
   "cell_type": "code",
   "execution_count": null,
   "metadata": {},
   "outputs": [],
   "source": [
    "pv.out <- suppressWarnings(pathview(gene.data = gse16873.d[, 1], \n",
    "                   cpd.data = sim.cpd.data,\n",
    "                   pathway.id = demo.paths$sel.paths[i], \n",
    "                   species = \"hsa\", \n",
    "                   out.suffix = \"gse16873.cpd\",\n",
    "                   keys.align = \"y\", \n",
    "                   kegg.native = T, \n",
    "                   key.pos = demo.paths$kpos1[i]))"
   ]
  },
  {
   "cell_type": "code",
   "execution_count": null,
   "metadata": {},
   "outputs": [],
   "source": [
    "head(pv.out$plot.data.cpd)"
   ]
  },
  {
   "cell_type": "code",
   "execution_count": null,
   "metadata": {},
   "outputs": [],
   "source": [
    "pv.out <- suppressWarnings(pathview(gene.data = gse16873.d[, 1], \n",
    "                   cpd.data = sim.cpd.data, \n",
    "                   pathway.id = demo.paths$sel.paths[i], \n",
    "                   species = \"hsa\", \n",
    "                   out.suffix = \"gse16873.cpd\",\n",
    "                   keys.align = \"y\", \n",
    "                   kegg.native = F, \n",
    "                   key.pos = demo.paths$kpos2[i],\n",
    "                   sign.pos = demo.paths$spos[i], \n",
    "                   cpd.lab.offset = demo.paths$offs[i]))"
   ]
  },
  {
   "cell_type": "markdown",
   "metadata": {},
   "source": [
    "### Multiple states or samples"
   ]
  },
  {
   "cell_type": "code",
   "execution_count": null,
   "metadata": {},
   "outputs": [],
   "source": [
    "# simulate compound data with multiple replicate samples\n",
    "set.seed(10)\n",
    "sim.cpd.data2 = matrix(sample(sim.cpd.data, 18000,\n",
    "                              replace = T), ncol = 6)\n",
    "rownames(sim.cpd.data2) = names(sim.cpd.data)\n",
    "colnames(sim.cpd.data2) = paste(\"exp\", 1:6, sep = \"\")\n",
    "head(sim.cpd.data2, 3)"
   ]
  },
  {
   "cell_type": "code",
   "execution_count": null,
   "metadata": {},
   "outputs": [],
   "source": [
    "# KEGG view\n",
    "pv.out <- suppressWarnings(pathview(gene.data = gse16873.d[, 1:3],\n",
    "                                    cpd.data = sim.cpd.data2[, 1:2], \n",
    "                                    pathway.id = demo.paths$sel.paths[i],\n",
    "                                    species = \"hsa\", \n",
    "                                    out.suffix = \"gse16873.cpd.3-2s\", \n",
    "                                    keys.align = \"y\",\n",
    "                                    kegg.native = T, \n",
    "                                    match.data = F, \n",
    "                                    multi.state = T, \n",
    "                                    same.layer = T))"
   ]
  },
  {
   "cell_type": "code",
   "execution_count": null,
   "metadata": {},
   "outputs": [],
   "source": [
    "# KEGG view with data match\n",
    "pv.out <- suppressWarnings(pathview(gene.data = gse16873.d[, 1:3],\n",
    "                                    cpd.data = sim.cpd.data2[, 1:2], \n",
    "                                    pathway.id = demo.paths$sel.paths[i],\n",
    "                                    species = \"hsa\", \n",
    "                                    out.suffix = \"gse16873.cpd.3-2s.match\",\n",
    "                                    keys.align = \"y\", \n",
    "                                    kegg.native = T, \n",
    "                                    match.data = T, \n",
    "                                    multi.state = T,\n",
    "                                    same.layer = T))"
   ]
  },
  {
   "cell_type": "code",
   "execution_count": null,
   "metadata": {},
   "outputs": [],
   "source": [
    "# graphviz view\n",
    "pv.out <- suppressWarnings(pathview(gene.data = gse16873.d[, 1:3],\n",
    "                                    cpd.data = sim.cpd.data2[, 1:2], \n",
    "                                    pathway.id = demo.paths$sel.paths[i],\n",
    "                                    species = \"hsa\", \n",
    "                                    out.suffix = \"gse16873.cpd.3-2s\", \n",
    "                                    keys.align = \"y\",\n",
    "                                    kegg.native = F, \n",
    "                                    match.data = F, \n",
    "                                    multi.state = T, \n",
    "                                    same.layer = T,\n",
    "                                    key.pos = demo.paths$kpos2[i], \n",
    "                                    sign.pos = demo.paths$spos[i]))"
   ]
  },
  {
   "cell_type": "code",
   "execution_count": null,
   "metadata": {},
   "outputs": [],
   "source": [
    "# plot samples/states separately\n",
    "# Doesn't seem to print out images well\n",
    "pv.out <- suppressWarnings(pathview(gene.data = gse16873.d[, 1:3],\n",
    "                                    cpd.data = sim.cpd.data2[, 1:2], \n",
    "                                    pathway.id = demo.paths$sel.paths[i],\n",
    "                                    species = \"hsa\", \n",
    "                                    out.suffix = \"gse16873.cpd.3-2s\", \n",
    "                                    keys.align = \"y\",\n",
    "                                    kegg.native = T, \n",
    "                                    match.data = F, \n",
    "                                    multi.state = F, \n",
    "                                    same.layer = T))"
   ]
  },
  {
   "cell_type": "code",
   "execution_count": null,
   "metadata": {},
   "outputs": [],
   "source": [
    "# KEGG layer with 2 views. Loses the original KEGG gene labels (or EC numbers)\n",
    "pv.out <- suppressWarnings(pathview(gene.data = gse16873.d[, 1:3],\n",
    "                                    cpd.data = sim.cpd.data2[, 1:2], \n",
    "                                    pathway.id = demo.paths$sel.paths[i],\n",
    "                                    species = \"hsa\", \n",
    "                                    out.suffix = \"gse16873.cpd.3-2s.2layer\",\n",
    "                                    keys.align = \"y\", \n",
    "                                    kegg.native = T, \n",
    "                                    match.data = F, \n",
    "                                    multi.state = T,\n",
    "                                    same.layer = F))"
   ]
  },
  {
   "cell_type": "markdown",
   "metadata": {},
   "source": [
    "## Feat. `GAGE`"
   ]
  },
  {
   "cell_type": "code",
   "execution_count": null,
   "metadata": {},
   "outputs": [],
   "source": [
    "# Load some datasets\n",
    "data(gse16873)\n",
    "hn <- grep('HN', colnames(gse16873), ignore.case =TRUEs) # indices of HN samples in colnames\n",
    "dcis <- grep('DCIS', colnames(gse16873), ignore.case =TRUE) # indice of DCIS samples in colnames\n",
    "data(kegg.gs)"
   ]
  },
  {
   "cell_type": "code",
   "execution_count": null,
   "metadata": {},
   "outputs": [],
   "source": [
    "# pw analysis with gage, gene data only\n",
    "gse16873.kegg.p <- gage(gse16873, \n",
    "                        gsets = kegg.gs, \n",
    "                        ref = hn, \n",
    "                        samp = dcis)"
   ]
  },
  {
   "cell_type": "code",
   "execution_count": null,
   "metadata": {},
   "outputs": [],
   "source": [
    "#prepare the differential expression data\n",
    "gse16873.d <- gagePrep(gse16873, ref = hn, samp = dcis)\n",
    "\n",
    "#equivalently, you can do simple subtraction for paired samples\n",
    "gse16873.d <- gse16873[,dcis]-gse16873[,hn]\n",
    "\n",
    "#select significant pathways and extract their IDs\n",
    "sel <- gse16873.kegg.p$greater[, \"q.val\"] < 0.1 & !is.na(gse16873.kegg.p$greater[,\"q.val\"])\n",
    "\n",
    "path.ids <- rownames(gse16873.kegg.p$greater)[sel]\n",
    "path.ids2 <- substr(path.ids[c(1, 2, 7)], 1, 8) # Grab paths with indices 1, 2 and 7"
   ]
  },
  {
   "cell_type": "code",
   "execution_count": null,
   "metadata": {},
   "outputs": [],
   "source": [
    "#pathview visualization\n",
    "pv.out.list <- sapply(path.ids2, function(pid) pathview(gene.data = gse16873.d[,1:2], \n",
    "                                                        pathway.id = pid, \n",
    "                                                        species = \"hsa\"))"
   ]
  },
  {
   "cell_type": "code",
   "execution_count": null,
   "metadata": {},
   "outputs": [],
   "source": [
    "x <- as_tibble(gse16873.kegg.p$greater, rownames = \"pw_name\") %>% drop_na() %>% filter(q.val<0.1)\n"
   ]
  },
  {
   "cell_type": "code",
   "execution_count": null,
   "metadata": {},
   "outputs": [],
   "source": []
  }
 ],
 "metadata": {
  "kernelspec": {
   "display_name": "R",
   "language": "R",
   "name": "ir"
  },
  "language_info": {
   "codemirror_mode": "r",
   "file_extension": ".r",
   "mimetype": "text/x-r-source",
   "name": "R",
   "pygments_lexer": "r",
   "version": "3.6.0"
  }
 },
 "nbformat": 4,
 "nbformat_minor": 2
}
